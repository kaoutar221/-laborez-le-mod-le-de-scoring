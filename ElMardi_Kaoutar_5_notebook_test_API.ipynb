{
 "cells": [
  {
   "cell_type": "code",
   "execution_count": 6,
   "id": "c1e68c3f",
   "metadata": {},
   "outputs": [
    {
     "name": "stdout",
     "output_type": "stream",
     "text": [
      "Test de l'endpoint de prédiction pour le client ID 447226\n",
      "Statut de la réponse: 200\n",
      "Prédiction: {\n",
      "  \"client_id\": 447226,\n",
      "  \"probability_of_default\": 0.2711802109618094,\n",
      "  \"status\": \"accept\\u00e9\"\n",
      "}\n",
      "Test de l'endpoint de prédiction pour le client ID 264854\n",
      "Statut de la réponse: 200\n",
      "Prédiction: {\n",
      "  \"client_id\": 264854,\n",
      "  \"probability_of_default\": 0.47286028316920775,\n",
      "  \"status\": \"refus\\u00e9\"\n",
      "}\n",
      "Test de l'endpoint de prédiction pour le client ID 283525\n",
      "Statut de la réponse: 200\n",
      "Prédiction: {\n",
      "  \"client_id\": 283525,\n",
      "  \"probability_of_default\": 0.28507953586138546,\n",
      "  \"status\": \"accept\\u00e9\"\n",
      "}\n"
     ]
    }
   ],
   "source": [
    "# Importation des bibliothèques nécessaires\n",
    "import requests\n",
    "import json\n",
    "\n",
    "# Définir l'URL de l'API déployée\n",
    "base_url = \"https://api-scoring-app-04b1217cf097.herokuapp.com\"\n",
    "\n",
    "# Fonction pour tester l'endpoint de prédiction\n",
    "def test_predict(client_id):\n",
    "    data = {'client_id': client_id}\n",
    "    response = requests.post(f\"{base_url}/predict\", data=data)\n",
    "    print(f\"Test de l'endpoint de prédiction pour le client ID {client_id}\")\n",
    "    print(f\"Statut de la réponse: {response.status_code}\")\n",
    "    if response.status_code == 200:\n",
    "        prediction = response.json()\n",
    "        print(f\"Prédiction: {json.dumps(prediction, indent=2)}\")\n",
    "    else:\n",
    "        try:\n",
    "            error = response.json()\n",
    "            print(f\"Erreur: {json.dumps(error, indent=2)}\\n\")\n",
    "        except json.JSONDecodeError:\n",
    "            print(f\"Erreur: {response.text}\\n\")\n",
    "\n",
    "# Utiliser des identifiants clients d'exemple pour le test de prédiction\n",
    "client_ids_exemples = [447226, 264854, 283525]\n",
    "\n",
    "# Exécuter les tests pour chaque identifiant client\n",
    "for client_id in client_ids_exemples:\n",
    "    test_predict(client_id)\n"
   ]
  },
  {
   "cell_type": "code",
   "execution_count": null,
   "id": "2e22ee18",
   "metadata": {},
   "outputs": [],
   "source": []
  }
 ],
 "metadata": {
  "kernelspec": {
   "display_name": "Python 3 (ipykernel)",
   "language": "python",
   "name": "python3"
  },
  "language_info": {
   "codemirror_mode": {
    "name": "ipython",
    "version": 3
   },
   "file_extension": ".py",
   "mimetype": "text/x-python",
   "name": "python",
   "nbconvert_exporter": "python",
   "pygments_lexer": "ipython3",
   "version": "3.11.7"
  }
 },
 "nbformat": 4,
 "nbformat_minor": 5
}
